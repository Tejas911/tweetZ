{
 "cells": [
  {
   "cell_type": "code",
   "execution_count": null,
   "metadata": {},
   "outputs": [],
   "source": [
    "!pip install gradio"
   ]
  },
  {
   "cell_type": "code",
   "execution_count": null,
   "metadata": {},
   "outputs": [],
   "source": [
    "from joblib import dump, load\n",
    "from sklearn.base import BaseEstimator, TransformerMixin\n",
    "import pandas as pd\n",
    "from nltk.tokenize import word_tokenize"
   ]
  },
  {
   "cell_type": "code",
   "execution_count": null,
   "metadata": {},
   "outputs": [],
   "source": [
    "class TextPreprocessor(BaseEstimator, TransformerMixin):\n",
    "    def __init__(self):\n",
    "        self.lemmatizer = WordNetLemmatizer()\n",
    "        self.stop_words = set(stopwords.words('english'))\n",
    "    \n",
    "    def fit(self, X, y=None):\n",
    "        return self\n",
    "    \n",
    "    def transform(self, X, y=None):\n",
    "        if isinstance(X, pd.Series):\n",
    "            return X.apply(self.preprocess_text)\n",
    "        else:  # handle other iterables\n",
    "            return [self.preprocess_text(text) for text in X]\n",
    "    \n",
    "    def preprocess_text(self, text):\n",
    "        tokens = word_tokenize(text)\n",
    "        tokens = [self.lemmatizer.lemmatize(token.lower()) for token in tokens if token.isalnum()]\n",
    "        tokens = [token for token in tokens if token not in self.stop_words]\n",
    "        return \" \".join(tokens)"
   ]
  },
  {
   "cell_type": "code",
   "execution_count": null,
   "metadata": {},
   "outputs": [],
   "source": [
    "PATH = r\"\"\n",
    "\n",
    "loaded_pipeline = load(PATH)"
   ]
  },
  {
   "cell_type": "code",
   "execution_count": null,
   "metadata": {},
   "outputs": [],
   "source": [
    "def senti_alz(input_text):\n",
    "    prediction = loaded_pipeline.predict([input_text])\n",
    "    # print(f\"The sentiment of the input sentence is: {prediction[0]}\")\n",
    "    confidence_scores = loaded_pipeline.predict_proba([input_text])\n",
    "\n",
    "    \n",
    "    return prediction[0],confidence_scores[0]"
   ]
  },
  {
   "cell_type": "code",
   "execution_count": null,
   "metadata": {},
   "outputs": [],
   "source": [
    "import gradio as gr\n",
    "\n",
    "\n",
    "# Create a Gradio interface with a submit button\n",
    "iface = gr.Interface(\n",
    "    fn=senti_alz,\n",
    "    inputs=gr.Textbox(),  # Gradio Image component takes input as numpy array\n",
    "    outputs=[gr.Textbox(label=\"Sentiment\"), gr.Textbox(label=\"Confidence Scores\")],\n",
    "    live=False,\n",
    "    title=\"SENTIMENTZZ\",\n",
    "    description=\"Write the tweet\",\n",
    "    allow_flagging=\"never\",\n",
    "    theme='Ajaxon6255/Emerald_Isle'\n",
    "\n",
    ")\n",
    "\n",
    "# Launch the Gradio interface\n",
    "iface.launch()"
   ]
  }
 ],
 "metadata": {
  "language_info": {
   "name": "python"
  }
 },
 "nbformat": 4,
 "nbformat_minor": 2
}
