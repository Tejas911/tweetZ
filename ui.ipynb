{
 "cells": [
  {
   "cell_type": "code",
   "execution_count": null,
   "metadata": {},
   "outputs": [],
   "source": [
    "!pip install gradio"
   ]
  },
  {
   "cell_type": "code",
   "execution_count": null,
   "metadata": {},
   "outputs": [],
   "source": [
    "from joblib import load"
   ]
  },
  {
   "cell_type": "code",
   "execution_count": null,
   "metadata": {},
   "outputs": [],
   "source": [
    "def senti_alz(input_text):\n",
    "    PATH = r\"\"\n",
    "\n",
    "    loaded_pipeline = load(PATH)\n",
    "\n",
    "    # Use the pipeline to make a prediction\n",
    "    prediction = loaded_pipeline.predict([input_text])\n",
    "    # print(f\"The sentiment of the input sentence is: {prediction[0]}\")\n",
    "    confidence_scores = loaded_pipeline.predict_proba([input_text])\n",
    "\n",
    "    \n",
    "    return prediction[0],confidence_scores[0]"
   ]
  },
  {
   "cell_type": "code",
   "execution_count": null,
   "metadata": {},
   "outputs": [],
   "source": [
    "import gradio as gr\n",
    "\n",
    "\n",
    "# Create a Gradio interface with a submit button\n",
    "iface = gr.Interface(\n",
    "    fn=senti_alz,\n",
    "    inputs=gr.Textbox(),  # Gradio Image component takes input as numpy array\n",
    "    outputs=[gr.Textbox(label=\"Sentiment\"), gr.Textbox(label=\"Confidence Scores\")],\n",
    "    live=False,\n",
    "    title=\"SENTIMENTZZ\",\n",
    "    description=\"Write the tweet\",\n",
    "    allow_flagging=\"never\",\n",
    "    theme='Ajaxon6255/Emerald_Isle'\n",
    "\n",
    ")\n",
    "\n",
    "# Launch the Gradio interface\n",
    "iface.launch()"
   ]
  }
 ],
 "metadata": {
  "language_info": {
   "name": "python"
  }
 },
 "nbformat": 4,
 "nbformat_minor": 2
}
