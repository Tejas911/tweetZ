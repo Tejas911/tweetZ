{
 "cells": [
  {
   "cell_type": "code",
   "execution_count": null,
   "metadata": {},
   "outputs": [],
   "source": [
    "!pip install gradio"
   ]
  },
  {
   "cell_type": "code",
   "execution_count": null,
   "metadata": {},
   "outputs": [],
   "source": [
    "import pandas as pd\n",
    "import numpy as np\n",
    "import nltk\n",
    "from nltk.corpus import stopwords\n",
    "from nltk.tokenize import word_tokenize\n",
    "from nltk.stem import WordNetLemmatizer\n",
    "from sklearn.feature_extraction.text import TfidfVectorizer\n",
    "from sklearn.naive_bayes import MultinomialNB\n",
    "from sklearn.pipeline import Pipeline\n",
    "from sklearn.base import BaseEstimator, TransformerMixin\n",
    "from sklearn.model_selection import train_test_split\n",
    "from joblib import dump, load\n",
    "nltk.download('punkt')\n",
    "nltk.download('stopwords')\n",
    "nltk.download('wordnet')\n",
    "nltk.download('averaged_perceptron_tagger')"
   ]
  },
  {
   "cell_type": "code",
   "execution_count": null,
   "metadata": {},
   "outputs": [],
   "source": [
    "class TextPreprocessor(BaseEstimator, TransformerMixin):\n",
    "    def __init__(self):\n",
    "        self.lemmatizer = WordNetLemmatizer()\n",
    "        self.stop_words = set(stopwords.words('english'))\n",
    "    \n",
    "    def fit(self, X, y=None):\n",
    "        return self\n",
    "    \n",
    "    def transform(self, X, y=None):\n",
    "        if isinstance(X, pd.Series):\n",
    "            return X.apply(self.preprocess_text)\n",
    "        else:  # handle other iterables\n",
    "            return [self.preprocess_text(text) for text in X]\n",
    "    \n",
    "    def preprocess_text(self, text):\n",
    "        tokens = word_tokenize(text)\n",
    "        tokens = [self.lemmatizer.lemmatize(token.lower()) for token in tokens if token.isalnum()]\n",
    "        tokens = [token for token in tokens if token not in self.stop_words]\n",
    "        return \" \".join(tokens)"
   ]
  },
  {
   "cell_type": "code",
   "execution_count": null,
   "metadata": {},
   "outputs": [],
   "source": [
    "PATH = r\"\"\n",
    "\n",
    "loaded_pipeline = load(PATH)"
   ]
  },
  {
   "cell_type": "code",
   "execution_count": null,
   "metadata": {},
   "outputs": [],
   "source": [
    "def senti_alz(input_text):\n",
    "    prediction = loaded_pipeline.predict([input_text])\n",
    "    # print(f\"The sentiment of the input sentence is: {prediction[0]}\")\n",
    "    confidence_scores = loaded_pipeline.predict_proba([input_text])\n",
    "\n",
    "    \n",
    "    return prediction[0],np.max(confidence_scores)"
   ]
  },
  {
   "cell_type": "code",
   "execution_count": null,
   "metadata": {},
   "outputs": [],
   "source": [
    "import gradio as gr\n",
    "\n",
    "\n",
    "# Create a Gradio interface with a submit button\n",
    "iface = gr.Interface(\n",
    "    fn=senti_alz,\n",
    "    inputs=gr.Textbox(),  # Gradio Image component takes input as numpy array\n",
    "    outputs=[gr.Textbox(label=\"Sentiment\"), gr.Textbox(label=\"Confidence Scores\")],\n",
    "    live=False,\n",
    "    title=\"SENTIMENTZZ\",\n",
    "    description=\"Write the tweet\",\n",
    "    allow_flagging=\"never\",\n",
    "    # theme='Ajaxon6255/Emerald_Isle'\n",
    "    theme='freddyaboulton/test-blue'\n",
    "\n",
    ")\n",
    "\n",
    "# Launch the Gradio interface\n",
    "iface.launch()"
   ]
  }
 ],
 "metadata": {
  "language_info": {
   "name": "python"
  }
 },
 "nbformat": 4,
 "nbformat_minor": 2
}
