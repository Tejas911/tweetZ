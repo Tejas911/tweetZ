{
 "cells": [
  {
   "cell_type": "code",
   "execution_count": 12,
   "metadata": {},
   "outputs": [],
   "source": [
    "import re\n",
    "import nltk\n",
    "from nltk.tokenize import word_tokenize\n",
    "from nltk.corpus import stopwords\n",
    "from collections import defaultdict\n",
    "import pandas as pd"
   ]
  },
  {
   "cell_type": "code",
   "execution_count": 2,
   "metadata": {},
   "outputs": [
    {
     "data": {
      "text/html": [
       "<div>\n",
       "<style scoped>\n",
       "    .dataframe tbody tr th:only-of-type {\n",
       "        vertical-align: middle;\n",
       "    }\n",
       "\n",
       "    .dataframe tbody tr th {\n",
       "        vertical-align: top;\n",
       "    }\n",
       "\n",
       "    .dataframe thead th {\n",
       "        text-align: right;\n",
       "    }\n",
       "</style>\n",
       "<table border=\"1\" class=\"dataframe\">\n",
       "  <thead>\n",
       "    <tr style=\"text-align: right;\">\n",
       "      <th></th>\n",
       "      <th>textID</th>\n",
       "      <th>text</th>\n",
       "      <th>selected_text</th>\n",
       "      <th>sentiment</th>\n",
       "    </tr>\n",
       "  </thead>\n",
       "  <tbody>\n",
       "    <tr>\n",
       "      <th>0</th>\n",
       "      <td>cb774db0d1</td>\n",
       "      <td>I`d have responded, if I were going</td>\n",
       "      <td>I`d have responded, if I were going</td>\n",
       "      <td>neutral</td>\n",
       "    </tr>\n",
       "    <tr>\n",
       "      <th>1</th>\n",
       "      <td>549e992a42</td>\n",
       "      <td>Sooo SAD I will miss you here in San Diego!!!</td>\n",
       "      <td>Sooo SAD</td>\n",
       "      <td>negative</td>\n",
       "    </tr>\n",
       "    <tr>\n",
       "      <th>2</th>\n",
       "      <td>088c60f138</td>\n",
       "      <td>my boss is bullying me...</td>\n",
       "      <td>bullying me</td>\n",
       "      <td>negative</td>\n",
       "    </tr>\n",
       "    <tr>\n",
       "      <th>3</th>\n",
       "      <td>9642c003ef</td>\n",
       "      <td>what interview! leave me alone</td>\n",
       "      <td>leave me alone</td>\n",
       "      <td>negative</td>\n",
       "    </tr>\n",
       "    <tr>\n",
       "      <th>4</th>\n",
       "      <td>358bd9e861</td>\n",
       "      <td>Sons of ****, why couldn`t they put them on t...</td>\n",
       "      <td>Sons of ****,</td>\n",
       "      <td>negative</td>\n",
       "    </tr>\n",
       "  </tbody>\n",
       "</table>\n",
       "</div>"
      ],
      "text/plain": [
       "       textID                                               text  \\\n",
       "0  cb774db0d1                I`d have responded, if I were going   \n",
       "1  549e992a42      Sooo SAD I will miss you here in San Diego!!!   \n",
       "2  088c60f138                          my boss is bullying me...   \n",
       "3  9642c003ef                     what interview! leave me alone   \n",
       "4  358bd9e861   Sons of ****, why couldn`t they put them on t...   \n",
       "\n",
       "                         selected_text sentiment  \n",
       "0  I`d have responded, if I were going   neutral  \n",
       "1                             Sooo SAD  negative  \n",
       "2                          bullying me  negative  \n",
       "3                       leave me alone  negative  \n",
       "4                        Sons of ****,  negative  "
      ]
     },
     "execution_count": 2,
     "metadata": {},
     "output_type": "execute_result"
    }
   ],
   "source": [
    "df = pd.read_csv(\"tweets/train.csv\")\n",
    "df.head()"
   ]
  },
  {
   "cell_type": "code",
   "execution_count": 3,
   "metadata": {},
   "outputs": [],
   "source": [
    "imp_features = [\"text\"]\n",
    "TARGET = [\"sentiment\"]"
   ]
  },
  {
   "cell_type": "code",
   "execution_count": 5,
   "metadata": {},
   "outputs": [
    {
     "data": {
      "text/html": [
       "<div>\n",
       "<style scoped>\n",
       "    .dataframe tbody tr th:only-of-type {\n",
       "        vertical-align: middle;\n",
       "    }\n",
       "\n",
       "    .dataframe tbody tr th {\n",
       "        vertical-align: top;\n",
       "    }\n",
       "\n",
       "    .dataframe thead tr th {\n",
       "        text-align: left;\n",
       "    }\n",
       "\n",
       "    .dataframe thead tr:last-of-type th {\n",
       "        text-align: right;\n",
       "    }\n",
       "</style>\n",
       "<table border=\"1\" class=\"dataframe\">\n",
       "  <thead>\n",
       "    <tr>\n",
       "      <th></th>\n",
       "      <th colspan=\"4\" halign=\"left\">textID</th>\n",
       "      <th colspan=\"4\" halign=\"left\">text</th>\n",
       "      <th colspan=\"4\" halign=\"left\">selected_text</th>\n",
       "    </tr>\n",
       "    <tr>\n",
       "      <th></th>\n",
       "      <th>count</th>\n",
       "      <th>unique</th>\n",
       "      <th>top</th>\n",
       "      <th>freq</th>\n",
       "      <th>count</th>\n",
       "      <th>unique</th>\n",
       "      <th>top</th>\n",
       "      <th>freq</th>\n",
       "      <th>count</th>\n",
       "      <th>unique</th>\n",
       "      <th>top</th>\n",
       "      <th>freq</th>\n",
       "    </tr>\n",
       "    <tr>\n",
       "      <th>sentiment</th>\n",
       "      <th></th>\n",
       "      <th></th>\n",
       "      <th></th>\n",
       "      <th></th>\n",
       "      <th></th>\n",
       "      <th></th>\n",
       "      <th></th>\n",
       "      <th></th>\n",
       "      <th></th>\n",
       "      <th></th>\n",
       "      <th></th>\n",
       "      <th></th>\n",
       "    </tr>\n",
       "  </thead>\n",
       "  <tbody>\n",
       "    <tr>\n",
       "      <th>negative</th>\n",
       "      <td>7781</td>\n",
       "      <td>7781</td>\n",
       "      <td>549e992a42</td>\n",
       "      <td>1</td>\n",
       "      <td>7781</td>\n",
       "      <td>7781</td>\n",
       "      <td>Sooo SAD I will miss you here in San Diego!!!</td>\n",
       "      <td>1</td>\n",
       "      <td>7781</td>\n",
       "      <td>5861</td>\n",
       "      <td>miss</td>\n",
       "      <td>143</td>\n",
       "    </tr>\n",
       "    <tr>\n",
       "      <th>neutral</th>\n",
       "      <td>11118</td>\n",
       "      <td>11118</td>\n",
       "      <td>cb774db0d1</td>\n",
       "      <td>1</td>\n",
       "      <td>11117</td>\n",
       "      <td>11117</td>\n",
       "      <td>I`d have responded, if I were going</td>\n",
       "      <td>1</td>\n",
       "      <td>11117</td>\n",
       "      <td>11111</td>\n",
       "      <td>aw</td>\n",
       "      <td>2</td>\n",
       "    </tr>\n",
       "    <tr>\n",
       "      <th>positive</th>\n",
       "      <td>8582</td>\n",
       "      <td>8582</td>\n",
       "      <td>6e0c6d75b1</td>\n",
       "      <td>1</td>\n",
       "      <td>8582</td>\n",
       "      <td>8582</td>\n",
       "      <td>2am feedings for the baby are fun when he is a...</td>\n",
       "      <td>1</td>\n",
       "      <td>8582</td>\n",
       "      <td>5537</td>\n",
       "      <td>good</td>\n",
       "      <td>198</td>\n",
       "    </tr>\n",
       "  </tbody>\n",
       "</table>\n",
       "</div>"
      ],
      "text/plain": [
       "          textID                           text         \\\n",
       "           count unique         top freq  count unique   \n",
       "sentiment                                                \n",
       "negative    7781   7781  549e992a42    1   7781   7781   \n",
       "neutral    11118  11118  cb774db0d1    1  11117  11117   \n",
       "positive    8582   8582  6e0c6d75b1    1   8582   8582   \n",
       "\n",
       "                                                                   \\\n",
       "                                                         top freq   \n",
       "sentiment                                                           \n",
       "negative       Sooo SAD I will miss you here in San Diego!!!    1   \n",
       "neutral                  I`d have responded, if I were going    1   \n",
       "positive   2am feedings for the baby are fun when he is a...    1   \n",
       "\n",
       "          selected_text                    \n",
       "                  count unique   top freq  \n",
       "sentiment                                  \n",
       "negative           7781   5861  miss  143  \n",
       "neutral           11117  11111    aw    2  \n",
       "positive           8582   5537  good  198  "
      ]
     },
     "execution_count": 5,
     "metadata": {},
     "output_type": "execute_result"
    }
   ],
   "source": [
    "df.groupby('sentiment').describe()"
   ]
  },
  {
   "cell_type": "code",
   "execution_count": 13,
   "metadata": {},
   "outputs": [],
   "source": [
    "class NaiveBayesClassifier:\n",
    "    def __init__(self):\n",
    "        self.prior = defaultdict(int)\n",
    "        self.word_counts = defaultdict(lambda: defaultdict(int))\n",
    "        self.vocab = set()\n",
    "        self.classes = set()\n",
    "\n",
    "    def train(self, documents):\n",
    "        for doc, label in documents:\n",
    "            self.classes.add(label)\n",
    "            self.prior[label] += 1\n",
    "            tokens = word_tokenize(doc.lower())\n",
    "            for token in tokens:\n",
    "                if token not in stopwords.words('english') and token.isalpha():\n",
    "                    self.word_counts[label][token] += 1\n",
    "                    self.vocab.add(token)\n",
    "\n",
    "    def classify(self, document):\n",
    "        max_score = float('-inf')\n",
    "        argmax_class = None\n",
    "        tokens = word_tokenize(document.lower())\n",
    "        for label in self.classes:\n",
    "            score = 0\n",
    "            for token in tokens:\n",
    "                if token in self.vocab:\n",
    "                    score += self.word_counts[label][token]\n",
    "            score += self.prior[label]\n",
    "            if score > max_score:\n",
    "                max_score = score\n",
    "                argmax_class = label\n",
    "        return argmax_class\n"
   ]
  },
  {
   "cell_type": "code",
   "execution_count": 23,
   "metadata": {},
   "outputs": [],
   "source": [
    "docs = pd.read_csv(\"tweets/train.csv\")\n",
    "\n",
    "# Drop rows with missing values\n",
    "docs = docs.dropna(subset=[\"text\", \"sentiment\"])\n",
    "\n",
    "# Convert non-string values to strings in the \"text\" column\n",
    "docs['text'] = docs['text'].apply(lambda x: str(x) if isinstance(x, (int, float)) else x)\n",
    "\n",
    "\n",
    "x =  df[\"text\"]\n",
    "y =  df[\"sentiment\"]\n",
    "documents = list(zip(x, y))"
   ]
  },
  {
   "cell_type": "code",
   "execution_count": 24,
   "metadata": {},
   "outputs": [
    {
     "ename": "AttributeError",
     "evalue": "'float' object has no attribute 'lower'",
     "output_type": "error",
     "traceback": [
      "\u001b[1;31m---------------------------------------------------------------------------\u001b[0m",
      "\u001b[1;31mAttributeError\u001b[0m                            Traceback (most recent call last)",
      "Cell \u001b[1;32mIn[24], line 2\u001b[0m\n\u001b[0;32m      1\u001b[0m classifier \u001b[38;5;241m=\u001b[39m NaiveBayesClassifier()\n\u001b[1;32m----> 2\u001b[0m \u001b[43mclassifier\u001b[49m\u001b[38;5;241;43m.\u001b[39;49m\u001b[43mtrain\u001b[49m\u001b[43m(\u001b[49m\u001b[43mdocuments\u001b[49m\u001b[43m)\u001b[49m\n",
      "Cell \u001b[1;32mIn[13], line 12\u001b[0m, in \u001b[0;36mNaiveBayesClassifier.train\u001b[1;34m(self, documents)\u001b[0m\n\u001b[0;32m     10\u001b[0m \u001b[38;5;28mself\u001b[39m\u001b[38;5;241m.\u001b[39mclasses\u001b[38;5;241m.\u001b[39madd(label)\n\u001b[0;32m     11\u001b[0m \u001b[38;5;28mself\u001b[39m\u001b[38;5;241m.\u001b[39mprior[label] \u001b[38;5;241m+\u001b[39m\u001b[38;5;241m=\u001b[39m \u001b[38;5;241m1\u001b[39m\n\u001b[1;32m---> 12\u001b[0m tokens \u001b[38;5;241m=\u001b[39m word_tokenize(\u001b[43mdoc\u001b[49m\u001b[38;5;241;43m.\u001b[39;49m\u001b[43mlower\u001b[49m())\n\u001b[0;32m     13\u001b[0m \u001b[38;5;28;01mfor\u001b[39;00m token \u001b[38;5;129;01min\u001b[39;00m tokens:\n\u001b[0;32m     14\u001b[0m     \u001b[38;5;28;01mif\u001b[39;00m token \u001b[38;5;129;01mnot\u001b[39;00m \u001b[38;5;129;01min\u001b[39;00m stopwords\u001b[38;5;241m.\u001b[39mwords(\u001b[38;5;124m'\u001b[39m\u001b[38;5;124menglish\u001b[39m\u001b[38;5;124m'\u001b[39m) \u001b[38;5;129;01mand\u001b[39;00m token\u001b[38;5;241m.\u001b[39misalpha():\n",
      "\u001b[1;31mAttributeError\u001b[0m: 'float' object has no attribute 'lower'"
     ]
    }
   ],
   "source": [
    "classifier = NaiveBayesClassifier()\n",
    "classifier.train(documents)\n"
   ]
  },
  {
   "cell_type": "code",
   "execution_count": null,
   "metadata": {},
   "outputs": [],
   "source": [
    "test_doc = \"This movie was great!\"\n",
    "predicted_class = classifier.classify(test_doc)\n",
    "print(f\"Predicted sentiment: {predicted_class}\")"
   ]
  },
  {
   "cell_type": "code",
   "execution_count": 25,
   "metadata": {},
   "outputs": [
    {
     "name": "stdout",
     "output_type": "stream",
     "text": [
      "Predicted sentiment: neutral\n"
     ]
    }
   ],
   "source": [
    "# Load your data\n",
    "docs = pd.read_csv(\"tweets/train.csv\")\n",
    "\n",
    "# Convert non-string values to strings in the \"text\" column\n",
    "docs['text'] = docs['text'].apply(lambda x: str(x) if isinstance(x, (int, float)) else x)\n",
    "\n",
    "# Drop rows with missing values\n",
    "docs = docs.dropna(subset=[\"text\", \"sentiment\"])\n",
    "\n",
    "x = docs[\"text\"]\n",
    "y = docs[\"sentiment\"]\n",
    "\n",
    "# Prepare data for training\n",
    "documents = []\n",
    "for text, sentiment in zip(x, y):\n",
    "    if isinstance(text, str):\n",
    "        documents.append((text, sentiment))\n",
    "\n",
    "# Train the Naive Bayes classifier\n",
    "classifier = NaiveBayesClassifier()\n",
    "classifier.train(documents)\n",
    "\n",
    "# Example usage:\n",
    "test_doc = \"This movie was great!\"\n",
    "predicted_class = classifier.classify(test_doc)\n",
    "print(f\"Predicted sentiment: {predicted_class}\")\n"
   ]
  },
  {
   "cell_type": "code",
   "execution_count": 28,
   "metadata": {},
   "outputs": [
    {
     "name": "stdout",
     "output_type": "stream",
     "text": [
      "Predicted sentiment: neutral\n"
     ]
    }
   ],
   "source": [
    "import dill\n",
    "\n",
    "# Train the Naive Bayes classifier\n",
    "classifier = NaiveBayesClassifier()\n",
    "classifier.train(documents)\n",
    "\n",
    "# Save the trained model to a file\n",
    "with open('naive_bayes_model.pkl', 'wb') as f:\n",
    "    dill.dump(classifier, f)\n",
    "\n",
    "# Load the saved model from file\n",
    "with open('naive_bayes_model.pkl', 'rb') as f:\n",
    "    classifier = dill.load(f)\n",
    "\n",
    "# Now you can use the classifier for predictions\n",
    "test_doc = 'Sooo SAD I will miss you here in San Diego!!!'\n",
    "predicted_class = classifier.classify(test_doc)\n",
    "print(f\"Predicted sentiment: {predicted_class}\")\n"
   ]
  },
  {
   "cell_type": "code",
   "execution_count": 31,
   "metadata": {},
   "outputs": [
    {
     "name": "stdout",
     "output_type": "stream",
     "text": [
      "Predicted sentiment: neutral\n"
     ]
    }
   ],
   "source": [
    "# Now you can use the classifier for predictions\n",
    "test_doc = 'bullying me'\n",
    "predicted_class = classifier.classify(test_doc)\n",
    "print(f\"Predicted sentiment: {predicted_class}\")\n"
   ]
  },
  {
   "cell_type": "code",
   "execution_count": null,
   "metadata": {},
   "outputs": [],
   "source": []
  }
 ],
 "metadata": {
  "kernelspec": {
   "display_name": "Python 3",
   "language": "python",
   "name": "python3"
  },
  "language_info": {
   "codemirror_mode": {
    "name": "ipython",
    "version": 3
   },
   "file_extension": ".py",
   "mimetype": "text/x-python",
   "name": "python",
   "nbconvert_exporter": "python",
   "pygments_lexer": "ipython3",
   "version": "3.11.2"
  }
 },
 "nbformat": 4,
 "nbformat_minor": 2
}
