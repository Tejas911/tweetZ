{
 "cells": [
  {
   "cell_type": "code",
   "execution_count": 33,
   "metadata": {},
   "outputs": [],
   "source": [
    "from joblib import dump, load\n",
    "from sklearn.base import BaseEstimator, TransformerMixin\n",
    "import pandas as pd\n",
    "from nltk.tokenize import word_tokenize\n",
    "import numpy as np\n"
   ]
  },
  {
   "cell_type": "code",
   "execution_count": 14,
   "metadata": {},
   "outputs": [],
   "source": [
    "class TextPreprocessor(BaseEstimator, TransformerMixin):\n",
    "    def __init__(self):\n",
    "        self.lemmatizer = WordNetLemmatizer()\n",
    "        self.stop_words = set(stopwords.words('english'))\n",
    "    \n",
    "    def fit(self, X, y=None):\n",
    "        return self\n",
    "    \n",
    "    def transform(self, X, y=None):\n",
    "        if isinstance(X, pd.Series):\n",
    "            return X.apply(self.preprocess_text)\n",
    "        else:  # handle other iterables\n",
    "            return [self.preprocess_text(text) for text in X]\n",
    "    \n",
    "    def preprocess_text(self, text):\n",
    "        tokens = word_tokenize(text)\n",
    "        tokens = [self.lemmatizer.lemmatize(token.lower()) for token in tokens if token.isalnum()]\n",
    "        tokens = [token for token in tokens if token not in self.stop_words]\n",
    "        return \" \".join(tokens)"
   ]
  },
  {
   "cell_type": "code",
   "execution_count": 15,
   "metadata": {},
   "outputs": [],
   "source": [
    "# Load the pipeline and predict new sentences\n",
    "loaded_pipeline = load('sentiment_analysis_pipeline.joblib')"
   ]
  },
  {
   "cell_type": "code",
   "execution_count": 37,
   "metadata": {},
   "outputs": [
    {
     "name": "stdout",
     "output_type": "stream",
     "text": [
      "The sentiment of the input sentence is: positive\n"
     ]
    },
    {
     "data": {
      "text/plain": [
       "0.6543002212720058"
      ]
     },
     "execution_count": 37,
     "metadata": {},
     "output_type": "execute_result"
    }
   ],
   "source": [
    "# Get a sentence from user input\n",
    "# user_sentence = input(\"Enter a sentence for sentiment analysis: \")\n",
    "user_sentence = \"tejas love's suits\"\n",
    "# Use the pipeline to make a prediction\n",
    "prediction = loaded_pipeline.predict([user_sentence])\n",
    "confidence_scores = loaded_pipeline.predict_proba([user_sentence])\n",
    "\n",
    "print(f\"The sentiment of the input sentence is: {prediction[0]}\")\n",
    "np.max(confidence_scores)"
   ]
  },
  {
   "cell_type": "code",
   "execution_count": null,
   "metadata": {},
   "outputs": [],
   "source": []
  }
 ],
 "metadata": {
  "kernelspec": {
   "display_name": "Python 3",
   "language": "python",
   "name": "python3"
  },
  "language_info": {
   "codemirror_mode": {
    "name": "ipython",
    "version": 3
   },
   "file_extension": ".py",
   "mimetype": "text/x-python",
   "name": "python",
   "nbconvert_exporter": "python",
   "pygments_lexer": "ipython3",
   "version": "3.11.2"
  }
 },
 "nbformat": 4,
 "nbformat_minor": 2
}
