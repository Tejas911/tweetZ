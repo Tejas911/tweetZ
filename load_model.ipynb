{
 "cells": [
  {
   "cell_type": "code",
   "execution_count": null,
   "metadata": {},
   "outputs": [],
   "source": [
    "import joblib\n",
    "\n",
    "# Load the saved pipeline model\n",
    "pipeline = joblib.load('sentiment_analysis_pipeline.joblib')\n",
    "\n"
   ]
  },
  {
   "cell_type": "code",
   "execution_count": null,
   "metadata": {},
   "outputs": [],
   "source": [
    "# New data for prediction\n",
    "new_texts = [\"I'm not sure about this.\", \"Absolutely fantastic!\", \"It could be better.\"]\n",
    "\n",
    "# Make predictions\n",
    "predictions = pipeline.predict(new_texts)\n",
    "\n",
    "# Display predictions\n",
    "for text, prediction in zip(new_texts, predictions):\n",
    "    print(f\"Text: {text} --> Prediction: {prediction}\")\n"
   ]
  }
 ],
 "metadata": {
  "language_info": {
   "name": "python"
  }
 },
 "nbformat": 4,
 "nbformat_minor": 2
}
